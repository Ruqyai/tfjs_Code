{
  "nbformat": 4,
  "nbformat_minor": 0,
  "metadata": {
    "colab": {
      "name": "tfjs.ipynb",
      "provenance": [],
      "collapsed_sections": [],
      "include_colab_link": true
    },
    "language_info": {
      "codemirror_mode": {
        "name": "ipython",
        "version": 3
      },
      "file_extension": ".py",
      "mimetype": "text/x-python",
      "name": "python",
      "nbconvert_exporter": "python",
      "pygments_lexer": "ipython3",
      "version": "3.7.3"
    },
    "kernelspec": {
      "display_name": "Python 3",
      "language": "python",
      "name": "python3"
    },
    "accelerator": "TPU"
  },
  "cells": [
    {
      "cell_type": "markdown",
      "metadata": {
        "id": "view-in-github",
        "colab_type": "text"
      },
      "source": [
        "<a href=\"https://colab.research.google.com/github/Ruqyai/tfjs/blob/main/Predict%20a%20Home%20Price/tfjs.ipynb\" target=\"_parent\"><img src=\"https://colab.research.google.com/assets/colab-badge.svg\" alt=\"Open In Colab\"/></a>"
      ]
    },
    {
      "cell_type": "markdown",
      "metadata": {
        "id": "deQs0DGs9EJM"
      },
      "source": [
        "#Predict a Home Price\n"
      ]
    },
    {
      "cell_type": "markdown",
      "metadata": {
        "id": "_8lqWSOWvCq3"
      },
      "source": [
        "<h3>About Data </h3>\n",
        "\n",
        "The dataset consisted of historic data of houses sold between May 2014 to May 2015.\n",
        "\n",
        "The dataset consisted of 21 variables and 21613 observations.\n",
        "\n",
        "[more info](https://www.kaggle.com/shivachandel/kc-house-data)"
      ]
    },
    {
      "cell_type": "code",
      "metadata": {
        "id": "M2d6rYP_i_hx"
      },
      "source": [
        "# Import libraries\n",
        "import numpy as np\n",
        "import pandas as pd\n",
        "import seaborn as sns\n",
        "import matplotlib.pyplot as plt\n",
        "import tensorflow as tf\n",
        "from tensorflow import keras"
      ],
      "execution_count": 1,
      "outputs": []
    },
    {
      "cell_type": "code",
      "metadata": {
        "id": "MJ4_MBf4wdiK"
      },
      "source": [
        "# Load the dataset\n",
        "file_path = 'https://raw.githubusercontent.com/Ruqyai/tfjs/main/kc_house_data.csv'"
      ],
      "execution_count": 2,
      "outputs": []
    },
    {
      "cell_type": "code",
      "metadata": {
        "id": "ytaabSN1kEjY",
        "outputId": "8fee422b-171d-4196-d82b-4599df949133",
        "colab": {
          "base_uri": "https://localhost:8080/",
          "height": 427
        }
      },
      "source": [
        "# Use the Pandas method read_csv() to load the data from the web address.\n",
        "df = pd.read_csv(file_path)\n",
        "df"
      ],
      "execution_count": 3,
      "outputs": [
        {
          "output_type": "execute_result",
          "data": {
            "text/html": [
              "<div>\n",
              "<style scoped>\n",
              "    .dataframe tbody tr th:only-of-type {\n",
              "        vertical-align: middle;\n",
              "    }\n",
              "\n",
              "    .dataframe tbody tr th {\n",
              "        vertical-align: top;\n",
              "    }\n",
              "\n",
              "    .dataframe thead th {\n",
              "        text-align: right;\n",
              "    }\n",
              "</style>\n",
              "<table border=\"1\" class=\"dataframe\">\n",
              "  <thead>\n",
              "    <tr style=\"text-align: right;\">\n",
              "      <th></th>\n",
              "      <th>id</th>\n",
              "      <th>date</th>\n",
              "      <th>price</th>\n",
              "      <th>bedrooms</th>\n",
              "      <th>bathrooms</th>\n",
              "      <th>sqft_living</th>\n",
              "      <th>sqft_lot</th>\n",
              "      <th>floors</th>\n",
              "      <th>waterfront</th>\n",
              "      <th>view</th>\n",
              "      <th>condition</th>\n",
              "      <th>grade</th>\n",
              "      <th>sqft_above</th>\n",
              "      <th>sqft_basement</th>\n",
              "      <th>yr_built</th>\n",
              "      <th>yr_renovated</th>\n",
              "      <th>zipcode</th>\n",
              "      <th>lat</th>\n",
              "      <th>long</th>\n",
              "      <th>sqft_living15</th>\n",
              "      <th>sqft_lot15</th>\n",
              "    </tr>\n",
              "  </thead>\n",
              "  <tbody>\n",
              "    <tr>\n",
              "      <th>0</th>\n",
              "      <td>7129300520</td>\n",
              "      <td>20141013T000000</td>\n",
              "      <td>221900.0</td>\n",
              "      <td>3</td>\n",
              "      <td>1.00</td>\n",
              "      <td>1180</td>\n",
              "      <td>5650</td>\n",
              "      <td>1.0</td>\n",
              "      <td>0</td>\n",
              "      <td>0</td>\n",
              "      <td>3</td>\n",
              "      <td>7</td>\n",
              "      <td>1180</td>\n",
              "      <td>0</td>\n",
              "      <td>1955</td>\n",
              "      <td>0</td>\n",
              "      <td>98178</td>\n",
              "      <td>47.5112</td>\n",
              "      <td>-122.257</td>\n",
              "      <td>1340</td>\n",
              "      <td>5650</td>\n",
              "    </tr>\n",
              "    <tr>\n",
              "      <th>1</th>\n",
              "      <td>6414100192</td>\n",
              "      <td>20141209T000000</td>\n",
              "      <td>538000.0</td>\n",
              "      <td>3</td>\n",
              "      <td>2.25</td>\n",
              "      <td>2570</td>\n",
              "      <td>7242</td>\n",
              "      <td>2.0</td>\n",
              "      <td>0</td>\n",
              "      <td>0</td>\n",
              "      <td>3</td>\n",
              "      <td>7</td>\n",
              "      <td>2170</td>\n",
              "      <td>400</td>\n",
              "      <td>1951</td>\n",
              "      <td>1991</td>\n",
              "      <td>98125</td>\n",
              "      <td>47.7210</td>\n",
              "      <td>-122.319</td>\n",
              "      <td>1690</td>\n",
              "      <td>7639</td>\n",
              "    </tr>\n",
              "    <tr>\n",
              "      <th>2</th>\n",
              "      <td>5631500400</td>\n",
              "      <td>20150225T000000</td>\n",
              "      <td>180000.0</td>\n",
              "      <td>2</td>\n",
              "      <td>1.00</td>\n",
              "      <td>770</td>\n",
              "      <td>10000</td>\n",
              "      <td>1.0</td>\n",
              "      <td>0</td>\n",
              "      <td>0</td>\n",
              "      <td>3</td>\n",
              "      <td>6</td>\n",
              "      <td>770</td>\n",
              "      <td>0</td>\n",
              "      <td>1933</td>\n",
              "      <td>0</td>\n",
              "      <td>98028</td>\n",
              "      <td>47.7379</td>\n",
              "      <td>-122.233</td>\n",
              "      <td>2720</td>\n",
              "      <td>8062</td>\n",
              "    </tr>\n",
              "    <tr>\n",
              "      <th>3</th>\n",
              "      <td>2487200875</td>\n",
              "      <td>20141209T000000</td>\n",
              "      <td>604000.0</td>\n",
              "      <td>4</td>\n",
              "      <td>3.00</td>\n",
              "      <td>1960</td>\n",
              "      <td>5000</td>\n",
              "      <td>1.0</td>\n",
              "      <td>0</td>\n",
              "      <td>0</td>\n",
              "      <td>5</td>\n",
              "      <td>7</td>\n",
              "      <td>1050</td>\n",
              "      <td>910</td>\n",
              "      <td>1965</td>\n",
              "      <td>0</td>\n",
              "      <td>98136</td>\n",
              "      <td>47.5208</td>\n",
              "      <td>-122.393</td>\n",
              "      <td>1360</td>\n",
              "      <td>5000</td>\n",
              "    </tr>\n",
              "    <tr>\n",
              "      <th>4</th>\n",
              "      <td>1954400510</td>\n",
              "      <td>20150218T000000</td>\n",
              "      <td>510000.0</td>\n",
              "      <td>3</td>\n",
              "      <td>2.00</td>\n",
              "      <td>1680</td>\n",
              "      <td>8080</td>\n",
              "      <td>1.0</td>\n",
              "      <td>0</td>\n",
              "      <td>0</td>\n",
              "      <td>3</td>\n",
              "      <td>8</td>\n",
              "      <td>1680</td>\n",
              "      <td>0</td>\n",
              "      <td>1987</td>\n",
              "      <td>0</td>\n",
              "      <td>98074</td>\n",
              "      <td>47.6168</td>\n",
              "      <td>-122.045</td>\n",
              "      <td>1800</td>\n",
              "      <td>7503</td>\n",
              "    </tr>\n",
              "    <tr>\n",
              "      <th>...</th>\n",
              "      <td>...</td>\n",
              "      <td>...</td>\n",
              "      <td>...</td>\n",
              "      <td>...</td>\n",
              "      <td>...</td>\n",
              "      <td>...</td>\n",
              "      <td>...</td>\n",
              "      <td>...</td>\n",
              "      <td>...</td>\n",
              "      <td>...</td>\n",
              "      <td>...</td>\n",
              "      <td>...</td>\n",
              "      <td>...</td>\n",
              "      <td>...</td>\n",
              "      <td>...</td>\n",
              "      <td>...</td>\n",
              "      <td>...</td>\n",
              "      <td>...</td>\n",
              "      <td>...</td>\n",
              "      <td>...</td>\n",
              "      <td>...</td>\n",
              "    </tr>\n",
              "    <tr>\n",
              "      <th>21608</th>\n",
              "      <td>263000018</td>\n",
              "      <td>20140521T000000</td>\n",
              "      <td>360000.0</td>\n",
              "      <td>3</td>\n",
              "      <td>2.50</td>\n",
              "      <td>1530</td>\n",
              "      <td>1131</td>\n",
              "      <td>3.0</td>\n",
              "      <td>0</td>\n",
              "      <td>0</td>\n",
              "      <td>3</td>\n",
              "      <td>8</td>\n",
              "      <td>1530</td>\n",
              "      <td>0</td>\n",
              "      <td>2009</td>\n",
              "      <td>0</td>\n",
              "      <td>98103</td>\n",
              "      <td>47.6993</td>\n",
              "      <td>-122.346</td>\n",
              "      <td>1530</td>\n",
              "      <td>1509</td>\n",
              "    </tr>\n",
              "    <tr>\n",
              "      <th>21609</th>\n",
              "      <td>6600060120</td>\n",
              "      <td>20150223T000000</td>\n",
              "      <td>400000.0</td>\n",
              "      <td>4</td>\n",
              "      <td>2.50</td>\n",
              "      <td>2310</td>\n",
              "      <td>5813</td>\n",
              "      <td>2.0</td>\n",
              "      <td>0</td>\n",
              "      <td>0</td>\n",
              "      <td>3</td>\n",
              "      <td>8</td>\n",
              "      <td>2310</td>\n",
              "      <td>0</td>\n",
              "      <td>2014</td>\n",
              "      <td>0</td>\n",
              "      <td>98146</td>\n",
              "      <td>47.5107</td>\n",
              "      <td>-122.362</td>\n",
              "      <td>1830</td>\n",
              "      <td>7200</td>\n",
              "    </tr>\n",
              "    <tr>\n",
              "      <th>21610</th>\n",
              "      <td>1523300141</td>\n",
              "      <td>20140623T000000</td>\n",
              "      <td>402101.0</td>\n",
              "      <td>2</td>\n",
              "      <td>0.75</td>\n",
              "      <td>1020</td>\n",
              "      <td>1350</td>\n",
              "      <td>2.0</td>\n",
              "      <td>0</td>\n",
              "      <td>0</td>\n",
              "      <td>3</td>\n",
              "      <td>7</td>\n",
              "      <td>1020</td>\n",
              "      <td>0</td>\n",
              "      <td>2009</td>\n",
              "      <td>0</td>\n",
              "      <td>98144</td>\n",
              "      <td>47.5944</td>\n",
              "      <td>-122.299</td>\n",
              "      <td>1020</td>\n",
              "      <td>2007</td>\n",
              "    </tr>\n",
              "    <tr>\n",
              "      <th>21611</th>\n",
              "      <td>291310100</td>\n",
              "      <td>20150116T000000</td>\n",
              "      <td>400000.0</td>\n",
              "      <td>3</td>\n",
              "      <td>2.50</td>\n",
              "      <td>1600</td>\n",
              "      <td>2388</td>\n",
              "      <td>2.0</td>\n",
              "      <td>0</td>\n",
              "      <td>0</td>\n",
              "      <td>3</td>\n",
              "      <td>8</td>\n",
              "      <td>1600</td>\n",
              "      <td>0</td>\n",
              "      <td>2004</td>\n",
              "      <td>0</td>\n",
              "      <td>98027</td>\n",
              "      <td>47.5345</td>\n",
              "      <td>-122.069</td>\n",
              "      <td>1410</td>\n",
              "      <td>1287</td>\n",
              "    </tr>\n",
              "    <tr>\n",
              "      <th>21612</th>\n",
              "      <td>1523300157</td>\n",
              "      <td>20141015T000000</td>\n",
              "      <td>325000.0</td>\n",
              "      <td>2</td>\n",
              "      <td>0.75</td>\n",
              "      <td>1020</td>\n",
              "      <td>1076</td>\n",
              "      <td>2.0</td>\n",
              "      <td>0</td>\n",
              "      <td>0</td>\n",
              "      <td>3</td>\n",
              "      <td>7</td>\n",
              "      <td>1020</td>\n",
              "      <td>0</td>\n",
              "      <td>2008</td>\n",
              "      <td>0</td>\n",
              "      <td>98144</td>\n",
              "      <td>47.5941</td>\n",
              "      <td>-122.299</td>\n",
              "      <td>1020</td>\n",
              "      <td>1357</td>\n",
              "    </tr>\n",
              "  </tbody>\n",
              "</table>\n",
              "<p>21613 rows × 21 columns</p>\n",
              "</div>"
            ],
            "text/plain": [
              "               id             date  ...  sqft_living15  sqft_lot15\n",
              "0      7129300520  20141013T000000  ...           1340        5650\n",
              "1      6414100192  20141209T000000  ...           1690        7639\n",
              "2      5631500400  20150225T000000  ...           2720        8062\n",
              "3      2487200875  20141209T000000  ...           1360        5000\n",
              "4      1954400510  20150218T000000  ...           1800        7503\n",
              "...           ...              ...  ...            ...         ...\n",
              "21608   263000018  20140521T000000  ...           1530        1509\n",
              "21609  6600060120  20150223T000000  ...           1830        7200\n",
              "21610  1523300141  20140623T000000  ...           1020        2007\n",
              "21611   291310100  20150116T000000  ...           1410        1287\n",
              "21612  1523300157  20141015T000000  ...           1020        1357\n",
              "\n",
              "[21613 rows x 21 columns]"
            ]
          },
          "metadata": {
            "tags": []
          },
          "execution_count": 3
        }
      ]
    },
    {
      "cell_type": "code",
      "metadata": {
        "id": "quLmOu3AsAXr",
        "outputId": "e92b296b-dba6-4cc3-f79c-3f22660d7dc1",
        "colab": {
          "base_uri": "https://localhost:8080/",
          "height": 218
        }
      },
      "source": [
        "# Take a Quick Look at the Data Structure\n",
        "df.head()"
      ],
      "execution_count": 4,
      "outputs": [
        {
          "output_type": "execute_result",
          "data": {
            "text/html": [
              "<div>\n",
              "<style scoped>\n",
              "    .dataframe tbody tr th:only-of-type {\n",
              "        vertical-align: middle;\n",
              "    }\n",
              "\n",
              "    .dataframe tbody tr th {\n",
              "        vertical-align: top;\n",
              "    }\n",
              "\n",
              "    .dataframe thead th {\n",
              "        text-align: right;\n",
              "    }\n",
              "</style>\n",
              "<table border=\"1\" class=\"dataframe\">\n",
              "  <thead>\n",
              "    <tr style=\"text-align: right;\">\n",
              "      <th></th>\n",
              "      <th>id</th>\n",
              "      <th>date</th>\n",
              "      <th>price</th>\n",
              "      <th>bedrooms</th>\n",
              "      <th>bathrooms</th>\n",
              "      <th>sqft_living</th>\n",
              "      <th>sqft_lot</th>\n",
              "      <th>floors</th>\n",
              "      <th>waterfront</th>\n",
              "      <th>view</th>\n",
              "      <th>condition</th>\n",
              "      <th>grade</th>\n",
              "      <th>sqft_above</th>\n",
              "      <th>sqft_basement</th>\n",
              "      <th>yr_built</th>\n",
              "      <th>yr_renovated</th>\n",
              "      <th>zipcode</th>\n",
              "      <th>lat</th>\n",
              "      <th>long</th>\n",
              "      <th>sqft_living15</th>\n",
              "      <th>sqft_lot15</th>\n",
              "    </tr>\n",
              "  </thead>\n",
              "  <tbody>\n",
              "    <tr>\n",
              "      <th>0</th>\n",
              "      <td>7129300520</td>\n",
              "      <td>20141013T000000</td>\n",
              "      <td>221900.0</td>\n",
              "      <td>3</td>\n",
              "      <td>1.00</td>\n",
              "      <td>1180</td>\n",
              "      <td>5650</td>\n",
              "      <td>1.0</td>\n",
              "      <td>0</td>\n",
              "      <td>0</td>\n",
              "      <td>3</td>\n",
              "      <td>7</td>\n",
              "      <td>1180</td>\n",
              "      <td>0</td>\n",
              "      <td>1955</td>\n",
              "      <td>0</td>\n",
              "      <td>98178</td>\n",
              "      <td>47.5112</td>\n",
              "      <td>-122.257</td>\n",
              "      <td>1340</td>\n",
              "      <td>5650</td>\n",
              "    </tr>\n",
              "    <tr>\n",
              "      <th>1</th>\n",
              "      <td>6414100192</td>\n",
              "      <td>20141209T000000</td>\n",
              "      <td>538000.0</td>\n",
              "      <td>3</td>\n",
              "      <td>2.25</td>\n",
              "      <td>2570</td>\n",
              "      <td>7242</td>\n",
              "      <td>2.0</td>\n",
              "      <td>0</td>\n",
              "      <td>0</td>\n",
              "      <td>3</td>\n",
              "      <td>7</td>\n",
              "      <td>2170</td>\n",
              "      <td>400</td>\n",
              "      <td>1951</td>\n",
              "      <td>1991</td>\n",
              "      <td>98125</td>\n",
              "      <td>47.7210</td>\n",
              "      <td>-122.319</td>\n",
              "      <td>1690</td>\n",
              "      <td>7639</td>\n",
              "    </tr>\n",
              "    <tr>\n",
              "      <th>2</th>\n",
              "      <td>5631500400</td>\n",
              "      <td>20150225T000000</td>\n",
              "      <td>180000.0</td>\n",
              "      <td>2</td>\n",
              "      <td>1.00</td>\n",
              "      <td>770</td>\n",
              "      <td>10000</td>\n",
              "      <td>1.0</td>\n",
              "      <td>0</td>\n",
              "      <td>0</td>\n",
              "      <td>3</td>\n",
              "      <td>6</td>\n",
              "      <td>770</td>\n",
              "      <td>0</td>\n",
              "      <td>1933</td>\n",
              "      <td>0</td>\n",
              "      <td>98028</td>\n",
              "      <td>47.7379</td>\n",
              "      <td>-122.233</td>\n",
              "      <td>2720</td>\n",
              "      <td>8062</td>\n",
              "    </tr>\n",
              "    <tr>\n",
              "      <th>3</th>\n",
              "      <td>2487200875</td>\n",
              "      <td>20141209T000000</td>\n",
              "      <td>604000.0</td>\n",
              "      <td>4</td>\n",
              "      <td>3.00</td>\n",
              "      <td>1960</td>\n",
              "      <td>5000</td>\n",
              "      <td>1.0</td>\n",
              "      <td>0</td>\n",
              "      <td>0</td>\n",
              "      <td>5</td>\n",
              "      <td>7</td>\n",
              "      <td>1050</td>\n",
              "      <td>910</td>\n",
              "      <td>1965</td>\n",
              "      <td>0</td>\n",
              "      <td>98136</td>\n",
              "      <td>47.5208</td>\n",
              "      <td>-122.393</td>\n",
              "      <td>1360</td>\n",
              "      <td>5000</td>\n",
              "    </tr>\n",
              "    <tr>\n",
              "      <th>4</th>\n",
              "      <td>1954400510</td>\n",
              "      <td>20150218T000000</td>\n",
              "      <td>510000.0</td>\n",
              "      <td>3</td>\n",
              "      <td>2.00</td>\n",
              "      <td>1680</td>\n",
              "      <td>8080</td>\n",
              "      <td>1.0</td>\n",
              "      <td>0</td>\n",
              "      <td>0</td>\n",
              "      <td>3</td>\n",
              "      <td>8</td>\n",
              "      <td>1680</td>\n",
              "      <td>0</td>\n",
              "      <td>1987</td>\n",
              "      <td>0</td>\n",
              "      <td>98074</td>\n",
              "      <td>47.6168</td>\n",
              "      <td>-122.045</td>\n",
              "      <td>1800</td>\n",
              "      <td>7503</td>\n",
              "    </tr>\n",
              "  </tbody>\n",
              "</table>\n",
              "</div>"
            ],
            "text/plain": [
              "           id             date     price  ...     long  sqft_living15  sqft_lot15\n",
              "0  7129300520  20141013T000000  221900.0  ... -122.257           1340        5650\n",
              "1  6414100192  20141209T000000  538000.0  ... -122.319           1690        7639\n",
              "2  5631500400  20150225T000000  180000.0  ... -122.233           2720        8062\n",
              "3  2487200875  20141209T000000  604000.0  ... -122.393           1360        5000\n",
              "4  1954400510  20150218T000000  510000.0  ... -122.045           1800        7503\n",
              "\n",
              "[5 rows x 21 columns]"
            ]
          },
          "metadata": {
            "tags": []
          },
          "execution_count": 4
        }
      ]
    },
    {
      "cell_type": "code",
      "metadata": {
        "id": "eDKr62sc0EJ_",
        "outputId": "2a490c76-367c-452f-8b93-557481893f75",
        "colab": {
          "base_uri": "https://localhost:8080/"
        }
      },
      "source": [
        "# Get info abot your data\n",
        "df.info()"
      ],
      "execution_count": 5,
      "outputs": [
        {
          "output_type": "stream",
          "text": [
            "<class 'pandas.core.frame.DataFrame'>\n",
            "RangeIndex: 21613 entries, 0 to 21612\n",
            "Data columns (total 21 columns):\n",
            " #   Column         Non-Null Count  Dtype  \n",
            "---  ------         --------------  -----  \n",
            " 0   id             21613 non-null  int64  \n",
            " 1   date           21613 non-null  object \n",
            " 2   price          21613 non-null  float64\n",
            " 3   bedrooms       21613 non-null  int64  \n",
            " 4   bathrooms      21613 non-null  float64\n",
            " 5   sqft_living    21613 non-null  int64  \n",
            " 6   sqft_lot       21613 non-null  int64  \n",
            " 7   floors         21613 non-null  float64\n",
            " 8   waterfront     21613 non-null  int64  \n",
            " 9   view           21613 non-null  int64  \n",
            " 10  condition      21613 non-null  int64  \n",
            " 11  grade          21613 non-null  int64  \n",
            " 12  sqft_above     21613 non-null  int64  \n",
            " 13  sqft_basement  21613 non-null  int64  \n",
            " 14  yr_built       21613 non-null  int64  \n",
            " 15  yr_renovated   21613 non-null  int64  \n",
            " 16  zipcode        21613 non-null  int64  \n",
            " 17  lat            21613 non-null  float64\n",
            " 18  long           21613 non-null  float64\n",
            " 19  sqft_living15  21613 non-null  int64  \n",
            " 20  sqft_lot15     21613 non-null  int64  \n",
            "dtypes: float64(5), int64(15), object(1)\n",
            "memory usage: 3.5+ MB\n"
          ],
          "name": "stdout"
        }
      ]
    },
    {
      "cell_type": "code",
      "metadata": {
        "id": "krSPjYCm0H_T",
        "outputId": "1254d40d-eaa7-45d4-a15e-b1a98e9f626a",
        "colab": {
          "base_uri": "https://localhost:8080/"
        }
      },
      "source": [
        "# Check if there is any missing value\n",
        "df.isnull().sum()"
      ],
      "execution_count": 6,
      "outputs": [
        {
          "output_type": "execute_result",
          "data": {
            "text/plain": [
              "id               0\n",
              "date             0\n",
              "price            0\n",
              "bedrooms         0\n",
              "bathrooms        0\n",
              "sqft_living      0\n",
              "sqft_lot         0\n",
              "floors           0\n",
              "waterfront       0\n",
              "view             0\n",
              "condition        0\n",
              "grade            0\n",
              "sqft_above       0\n",
              "sqft_basement    0\n",
              "yr_built         0\n",
              "yr_renovated     0\n",
              "zipcode          0\n",
              "lat              0\n",
              "long             0\n",
              "sqft_living15    0\n",
              "sqft_lot15       0\n",
              "dtype: int64"
            ]
          },
          "metadata": {
            "tags": []
          },
          "execution_count": 6
        }
      ]
    },
    {
      "cell_type": "code",
      "metadata": {
        "id": "ldHRMxAxOTIt",
        "outputId": "338e6d13-56f1-4d75-8c25-755f0793f228",
        "colab": {
          "base_uri": "https://localhost:8080/",
          "height": 333
        }
      },
      "source": [
        "# Check if there is any missing value\n",
        "sns.heatmap(df.isnull(), cmap='viridis')\n",
        "plt.show()"
      ],
      "execution_count": 7,
      "outputs": [
        {
          "output_type": "display_data",
          "data": {
            "image/png": "[encoded data removed]",
            "text/plain": [
              "<Figure size 432x288 with 2 Axes>"
            ]
          },
          "metadata": {
            "tags": [],
            "needs_background": "light"
          }
        }
      ]
    },
    {
      "cell_type": "code",
      "metadata": {
        "id": "AN2JjP9OBend"
      },
      "source": [
        "# Choose the features and define the labels\n",
        "columns = ['bedrooms', 'bathrooms','sqft_living', 'grade']\n",
        "labels = df['price'].values\n",
        "features = df[list(columns)].values\n"
      ],
      "execution_count": 8,
      "outputs": []
    },
    {
      "cell_type": "code",
      "metadata": {
        "id": "PBQov_IMBoiD"
      },
      "source": [
        "# Split the data\n",
        "from sklearn.model_selection import train_test_split\n",
        "\n",
        "X_train, X_test, y_train, y_test = train_test_split(features, labels, test_size=0.30)"
      ],
      "execution_count": 9,
      "outputs": []
    },
    {
      "cell_type": "code",
      "metadata": {
        "id": "g0I9FvpMByjv"
      },
      "source": [
        "# Build The structure of Model\n",
        "def build_model():\n",
        "    model = keras.Sequential([\n",
        "      keras.layers.Dense(64, activation='relu', input_shape= X_train[0].shape ),\n",
        "      keras.layers.Dense(64, activation='relu'),\n",
        "      keras.layers.Dense(1)\n",
        "    ])\n",
        "\n",
        "    optimizer = tf.keras.optimizers.RMSprop(0.001)\n",
        "\n",
        "    model.compile(loss='mse',\n",
        "                  optimizer=optimizer,\n",
        "                  metrics=['mae', 'mse'])\n",
        "    return model\n",
        "\n",
        "    \n",
        "#  Create instance\n",
        "model = build_model()"
      ],
      "execution_count": 10,
      "outputs": []
    },
    {
      "cell_type": "code",
      "metadata": {
        "id": "j2OxAivJWUPe",
        "outputId": "1ca72f6e-d5ca-4cd6-f4a1-8384d6ac9887",
        "colab": {
          "base_uri": "https://localhost:8080/"
        }
      },
      "source": [
        "# Train the model\n",
        "EPOCHS = 100\n",
        "model.fit(X_train, y_train, epochs=EPOCHS, verbose=1)"
      ],
      "execution_count": 11,
      "outputs": [
        {
          "output_type": "stream",
          "text": [
            "Epoch 1/100\n",
            "473/473 [==============================] - 0s 987us/step - loss: 326917062656.0000 - mae: 454204.9375 - mse: 326917062656.0000\n",
            "Epoch 2/100\n",
            "473/473 [==============================] - 0s 995us/step - loss: 80159260672.0000 - mae: 182749.8750 - mse: 80159260672.0000\n",
            "Epoch 3/100\n",
            "473/473 [==============================] - 0s 952us/step - loss: 67279679488.0000 - mae: 171974.0781 - mse: 67279679488.0000\n",
            "Epoch 4/100\n",
            "473/473 [==============================] - 0s 1ms/step - loss: 67138097152.0000 - mae: 172255.1719 - mse: 67138097152.0000\n",
            "Epoch 5/100\n",
            "473/473 [==============================] - 0s 992us/step - loss: 67233673216.0000 - mae: 172042.1562 - mse: 67233673216.0000\n",
            "Epoch 6/100\n",
            "473/473 [==============================] - 0s 1ms/step - loss: 67223891968.0000 - mae: 171770.4844 - mse: 67223891968.0000\n",
            "Epoch 7/100\n",
            "473/473 [==============================] - 0s 937us/step - loss: 67125559296.0000 - mae: 171858.5469 - mse: 67125559296.0000\n",
            "Epoch 8/100\n",
            "473/473 [==============================] - 0s 965us/step - loss: 67225272320.0000 - mae: 172318.5156 - mse: 67225272320.0000\n",
            "Epoch 9/100\n",
            "473/473 [==============================] - 0s 951us/step - loss: 67220234240.0000 - mae: 172041.0312 - mse: 67220234240.0000\n",
            "Epoch 10/100\n",
            "473/473 [==============================] - 0s 1ms/step - loss: 67224518656.0000 - mae: 172081.9688 - mse: 67224518656.0000\n",
            "Epoch 11/100\n",
            "473/473 [==============================] - 1s 1ms/step - loss: 67230162944.0000 - mae: 172021.7656 - mse: 67230162944.0000\n",
            "Epoch 12/100\n",
            "473/473 [==============================] - 0s 1ms/step - loss: 67219554304.0000 - mae: 171955.7969 - mse: 67219554304.0000\n",
            "Epoch 13/100\n",
            "473/473 [==============================] - 1s 1ms/step - loss: 67175620608.0000 - mae: 171776.1250 - mse: 67175620608.0000\n",
            "Epoch 14/100\n",
            "473/473 [==============================] - 1s 1ms/step - loss: 67216257024.0000 - mae: 171893.9375 - mse: 67216257024.0000\n",
            "Epoch 15/100\n",
            "473/473 [==============================] - 0s 940us/step - loss: 67168096256.0000 - mae: 171788.5938 - mse: 67168096256.0000\n",
            "Epoch 16/100\n",
            "473/473 [==============================] - 0s 962us/step - loss: 67242430464.0000 - mae: 171968.6094 - mse: 67242430464.0000\n",
            "Epoch 17/100\n",
            "473/473 [==============================] - 0s 1ms/step - loss: 67185549312.0000 - mae: 171826.4062 - mse: 67185549312.0000\n",
            "Epoch 18/100\n",
            "473/473 [==============================] - 0s 993us/step - loss: 67177377792.0000 - mae: 172046.4688 - mse: 67177377792.0000\n",
            "Epoch 19/100\n",
            "473/473 [==============================] - 0s 994us/step - loss: 67181158400.0000 - mae: 172048.4844 - mse: 67181158400.0000\n",
            "Epoch 20/100\n",
            "473/473 [==============================] - 0s 1ms/step - loss: 67151405056.0000 - mae: 172023.1719 - mse: 67151405056.0000\n",
            "Epoch 21/100\n",
            "473/473 [==============================] - 0s 1ms/step - loss: 67195621376.0000 - mae: 171552.2812 - mse: 67195621376.0000\n",
            "Epoch 22/100\n",
            "473/473 [==============================] - 0s 1ms/step - loss: 67127525376.0000 - mae: 172066.2500 - mse: 67127525376.0000\n",
            "Epoch 23/100\n",
            "473/473 [==============================] - 0s 986us/step - loss: 67129470976.0000 - mae: 171631.8281 - mse: 67129470976.0000\n",
            "Epoch 24/100\n",
            "473/473 [==============================] - 0s 987us/step - loss: 67117678592.0000 - mae: 172090.2188 - mse: 67117678592.0000\n",
            "Epoch 25/100\n",
            "473/473 [==============================] - 0s 960us/step - loss: 67201441792.0000 - mae: 171530.1094 - mse: 67201441792.0000\n",
            "Epoch 26/100\n",
            "473/473 [==============================] - 0s 991us/step - loss: 67114770432.0000 - mae: 171978.7812 - mse: 67114770432.0000\n",
            "Epoch 27/100\n",
            "473/473 [==============================] - 0s 938us/step - loss: 67138953216.0000 - mae: 171842.7500 - mse: 67138953216.0000\n",
            "Epoch 28/100\n",
            "473/473 [==============================] - 1s 1ms/step - loss: 67150090240.0000 - mae: 171433.4219 - mse: 67150090240.0000\n",
            "Epoch 29/100\n",
            "473/473 [==============================] - 1s 1ms/step - loss: 67106680832.0000 - mae: 171820.9062 - mse: 67106680832.0000\n",
            "Epoch 30/100\n",
            "473/473 [==============================] - 1s 1ms/step - loss: 67112296448.0000 - mae: 171736.2969 - mse: 67112296448.0000\n",
            "Epoch 31/100\n",
            "473/473 [==============================] - 0s 1ms/step - loss: 67096977408.0000 - mae: 172012.5938 - mse: 67096977408.0000\n",
            "Epoch 32/100\n",
            "473/473 [==============================] - 0s 958us/step - loss: 67129663488.0000 - mae: 171790.5938 - mse: 67129663488.0000\n",
            "Epoch 33/100\n",
            "473/473 [==============================] - 0s 954us/step - loss: 67076448256.0000 - mae: 171651.8906 - mse: 67076448256.0000\n",
            "Epoch 34/100\n",
            "473/473 [==============================] - 0s 1ms/step - loss: 67111370752.0000 - mae: 171727.5781 - mse: 67111370752.0000\n",
            "Epoch 35/100\n",
            "473/473 [==============================] - 0s 1ms/step - loss: 67075035136.0000 - mae: 172051.5781 - mse: 67075035136.0000\n",
            "Epoch 36/100\n",
            "473/473 [==============================] - 0s 1ms/step - loss: 67109625856.0000 - mae: 171987.0781 - mse: 67109625856.0000\n",
            "Epoch 37/100\n",
            "473/473 [==============================] - 0s 1ms/step - loss: 67115565056.0000 - mae: 171520.5000 - mse: 67115565056.0000\n",
            "Epoch 38/100\n",
            "473/473 [==============================] - 0s 1ms/step - loss: 67093123072.0000 - mae: 171607.6250 - mse: 67093123072.0000\n",
            "Epoch 39/100\n",
            "473/473 [==============================] - 0s 988us/step - loss: 67093463040.0000 - mae: 171833.2500 - mse: 67093463040.0000\n",
            "Epoch 40/100\n",
            "473/473 [==============================] - 0s 1ms/step - loss: 67121397760.0000 - mae: 171737.2500 - mse: 67121397760.0000\n",
            "Epoch 41/100\n",
            "473/473 [==============================] - 1s 1ms/step - loss: 67073658880.0000 - mae: 171703.7500 - mse: 67073658880.0000\n",
            "Epoch 42/100\n",
            "473/473 [==============================] - 1s 1ms/step - loss: 67122647040.0000 - mae: 171660.0938 - mse: 67122647040.0000\n",
            "Epoch 43/100\n",
            "473/473 [==============================] - 1s 1ms/step - loss: 67157946368.0000 - mae: 171313.2188 - mse: 67157946368.0000\n",
            "Epoch 44/100\n",
            "473/473 [==============================] - 1s 1ms/step - loss: 67090669568.0000 - mae: 171715.7969 - mse: 67090669568.0000\n",
            "Epoch 45/100\n",
            "473/473 [==============================] - 1s 1ms/step - loss: 67077468160.0000 - mae: 171779.8438 - mse: 67077468160.0000\n",
            "Epoch 46/100\n",
            "473/473 [==============================] - 1s 1ms/step - loss: 67086450688.0000 - mae: 171557.6250 - mse: 67086450688.0000\n",
            "Epoch 47/100\n",
            "473/473 [==============================] - 1s 1ms/step - loss: 67059580928.0000 - mae: 171469.8750 - mse: 67059580928.0000\n",
            "Epoch 48/100\n",
            "473/473 [==============================] - 1s 1ms/step - loss: 67090432000.0000 - mae: 171691.2656 - mse: 67090432000.0000\n",
            "Epoch 49/100\n",
            "473/473 [==============================] - 1s 1ms/step - loss: 67071188992.0000 - mae: 171866.2031 - mse: 67071188992.0000\n",
            "Epoch 50/100\n",
            "473/473 [==============================] - 1s 1ms/step - loss: 67092316160.0000 - mae: 171768.3594 - mse: 67092316160.0000\n",
            "Epoch 51/100\n",
            "473/473 [==============================] - 0s 1ms/step - loss: 67110150144.0000 - mae: 171268.9531 - mse: 67110150144.0000\n",
            "Epoch 52/100\n",
            "473/473 [==============================] - 0s 1ms/step - loss: 67065970688.0000 - mae: 171643.3438 - mse: 67065970688.0000\n",
            "Epoch 53/100\n",
            "473/473 [==============================] - 0s 1ms/step - loss: 67049414656.0000 - mae: 171734.8125 - mse: 67049414656.0000\n",
            "Epoch 54/100\n",
            "473/473 [==============================] - 0s 1ms/step - loss: 67050254336.0000 - mae: 171689.0469 - mse: 67050254336.0000\n",
            "Epoch 55/100\n",
            "473/473 [==============================] - 0s 975us/step - loss: 67067527168.0000 - mae: 171564.7500 - mse: 67067527168.0000\n",
            "Epoch 56/100\n",
            "473/473 [==============================] - 0s 1ms/step - loss: 67030032384.0000 - mae: 171894.1719 - mse: 67030032384.0000\n",
            "Epoch 57/100\n",
            "473/473 [==============================] - 1s 1ms/step - loss: 66909646848.0000 - mae: 171700.3438 - mse: 66909646848.0000\n",
            "Epoch 58/100\n",
            "473/473 [==============================] - 1s 1ms/step - loss: 67057311744.0000 - mae: 171404.7188 - mse: 67057311744.0000\n",
            "Epoch 59/100\n",
            "473/473 [==============================] - 0s 1ms/step - loss: 67015421952.0000 - mae: 171522.6094 - mse: 67015421952.0000\n",
            "Epoch 60/100\n",
            "473/473 [==============================] - 0s 1ms/step - loss: 67003518976.0000 - mae: 171916.5469 - mse: 67003518976.0000\n",
            "Epoch 61/100\n",
            "473/473 [==============================] - 0s 1ms/step - loss: 67032494080.0000 - mae: 171476.9531 - mse: 67032494080.0000\n",
            "Epoch 62/100\n",
            "473/473 [==============================] - 0s 1ms/step - loss: 66955354112.0000 - mae: 171811.0156 - mse: 66955354112.0000\n",
            "Epoch 63/100\n",
            "473/473 [==============================] - 0s 979us/step - loss: 67047841792.0000 - mae: 171427.7969 - mse: 67047841792.0000\n",
            "Epoch 64/100\n",
            "473/473 [==============================] - 0s 1ms/step - loss: 67033649152.0000 - mae: 171619.6250 - mse: 67033649152.0000\n",
            "Epoch 65/100\n",
            "473/473 [==============================] - 0s 1ms/step - loss: 67030007808.0000 - mae: 171737.2500 - mse: 67030007808.0000\n",
            "Epoch 66/100\n",
            "473/473 [==============================] - 0s 985us/step - loss: 66960097280.0000 - mae: 171647.6875 - mse: 66960097280.0000\n",
            "Epoch 67/100\n",
            "473/473 [==============================] - 0s 994us/step - loss: 67029975040.0000 - mae: 171537.6875 - mse: 67029975040.0000\n",
            "Epoch 68/100\n",
            "473/473 [==============================] - 0s 992us/step - loss: 66983845888.0000 - mae: 171452.5312 - mse: 66983845888.0000\n",
            "Epoch 69/100\n",
            "473/473 [==============================] - 0s 1ms/step - loss: 66988838912.0000 - mae: 172016.4375 - mse: 66988838912.0000\n",
            "Epoch 70/100\n",
            "473/473 [==============================] - 0s 1ms/step - loss: 66972368896.0000 - mae: 171554.7500 - mse: 66972368896.0000\n",
            "Epoch 71/100\n",
            "473/473 [==============================] - 1s 1ms/step - loss: 67011686400.0000 - mae: 171336.7812 - mse: 67011686400.0000\n",
            "Epoch 72/100\n",
            "473/473 [==============================] - 0s 1ms/step - loss: 66958761984.0000 - mae: 171568.9688 - mse: 66958761984.0000\n",
            "Epoch 73/100\n",
            "473/473 [==============================] - 0s 987us/step - loss: 67007033344.0000 - mae: 171723.8594 - mse: 67007033344.0000\n",
            "Epoch 74/100\n",
            "473/473 [==============================] - 0s 1ms/step - loss: 66947555328.0000 - mae: 171751.7656 - mse: 66947555328.0000\n",
            "Epoch 75/100\n",
            "473/473 [==============================] - 0s 1ms/step - loss: 67028959232.0000 - mae: 171393.7344 - mse: 67028959232.0000\n",
            "Epoch 76/100\n",
            "473/473 [==============================] - 0s 990us/step - loss: 66977050624.0000 - mae: 171704.6406 - mse: 66977050624.0000\n",
            "Epoch 77/100\n",
            "473/473 [==============================] - 0s 1ms/step - loss: 66970832896.0000 - mae: 171398.9844 - mse: 66970832896.0000\n",
            "Epoch 78/100\n",
            "473/473 [==============================] - 0s 1ms/step - loss: 67007639552.0000 - mae: 171473.9688 - mse: 67007639552.0000\n",
            "Epoch 79/100\n",
            "473/473 [==============================] - 0s 990us/step - loss: 66941501440.0000 - mae: 171669.4062 - mse: 66941501440.0000\n",
            "Epoch 80/100\n",
            "473/473 [==============================] - 0s 1ms/step - loss: 66931228672.0000 - mae: 171450.9062 - mse: 66931228672.0000\n",
            "Epoch 81/100\n",
            "473/473 [==============================] - 0s 1ms/step - loss: 66982756352.0000 - mae: 171620.7500 - mse: 66982756352.0000\n",
            "Epoch 82/100\n",
            "473/473 [==============================] - 0s 1ms/step - loss: 66955890688.0000 - mae: 171486.9531 - mse: 66955890688.0000\n",
            "Epoch 83/100\n",
            "473/473 [==============================] - 0s 1ms/step - loss: 66843566080.0000 - mae: 171789.6250 - mse: 66843566080.0000\n",
            "Epoch 84/100\n",
            "473/473 [==============================] - 1s 1ms/step - loss: 66978226176.0000 - mae: 171273.7656 - mse: 66978226176.0000\n",
            "Epoch 85/100\n",
            "473/473 [==============================] - 0s 999us/step - loss: 66941353984.0000 - mae: 171476.5469 - mse: 66941353984.0000\n",
            "Epoch 86/100\n",
            "473/473 [==============================] - 0s 1ms/step - loss: 66948853760.0000 - mae: 171672.9062 - mse: 66948853760.0000\n",
            "Epoch 87/100\n",
            "473/473 [==============================] - 1s 1ms/step - loss: 66940944384.0000 - mae: 171200.3750 - mse: 66940944384.0000\n",
            "Epoch 88/100\n",
            "473/473 [==============================] - 0s 1ms/step - loss: 66959847424.0000 - mae: 171440.6094 - mse: 66959847424.0000\n",
            "Epoch 89/100\n",
            "473/473 [==============================] - 0s 1ms/step - loss: 66919301120.0000 - mae: 171764.8594 - mse: 66919301120.0000\n",
            "Epoch 90/100\n",
            "473/473 [==============================] - 0s 1ms/step - loss: 66901270528.0000 - mae: 171548.1250 - mse: 66901270528.0000\n",
            "Epoch 91/100\n",
            "473/473 [==============================] - 0s 996us/step - loss: 66891763712.0000 - mae: 171800.6562 - mse: 66891763712.0000\n",
            "Epoch 92/100\n",
            "473/473 [==============================] - 0s 1ms/step - loss: 66914766848.0000 - mae: 171289.5312 - mse: 66914766848.0000\n",
            "Epoch 93/100\n",
            "473/473 [==============================] - 0s 986us/step - loss: 66923028480.0000 - mae: 171262.9062 - mse: 66923028480.0000\n",
            "Epoch 94/100\n",
            "473/473 [==============================] - 0s 1ms/step - loss: 66937282560.0000 - mae: 171084.0156 - mse: 66937282560.0000\n",
            "Epoch 95/100\n",
            "473/473 [==============================] - 1s 1ms/step - loss: 66924613632.0000 - mae: 171384.0781 - mse: 66924613632.0000\n",
            "Epoch 96/100\n",
            "473/473 [==============================] - 1s 1ms/step - loss: 66858659840.0000 - mae: 171561.8281 - mse: 66858659840.0000\n",
            "Epoch 97/100\n",
            "473/473 [==============================] - 0s 1ms/step - loss: 66867970048.0000 - mae: 171158.3281 - mse: 66867970048.0000\n",
            "Epoch 98/100\n",
            "473/473 [==============================] - 1s 1ms/step - loss: 66814582784.0000 - mae: 171433.8594 - mse: 66814582784.0000\n",
            "Epoch 99/100\n",
            "473/473 [==============================] - 0s 1ms/step - loss: 66872745984.0000 - mae: 171202.1094 - mse: 66872745984.0000\n",
            "Epoch 100/100\n",
            "473/473 [==============================] - 0s 1ms/step - loss: 66875494400.0000 - mae: 170829.9688 - mse: 66875494400.0000\n"
          ],
          "name": "stdout"
        },
        {
          "output_type": "execute_result",
          "data": {
            "text/plain": [
              "<tensorflow.python.keras.callbacks.History at 0x7fd94876ce10>"
            ]
          },
          "metadata": {
            "tags": []
          },
          "execution_count": 11
        }
      ]
    },
    {
      "cell_type": "code",
      "metadata": {
        "id": "oZsFFO4YW3g4",
        "outputId": "f5f17c92-5ddc-484f-d2fb-26034c0beeed",
        "colab": {
          "base_uri": "https://localhost:8080/"
        }
      },
      "source": [
        "# Predict \n",
        "predict = model.predict(X_test)\n",
        "idx= np.random.choice(X_test.shape[0]) \n",
        "print (\"Predicted price  : \", predict[idx])\n",
        "print (\"Real price : \", y_test[idx])"
      ],
      "execution_count": 12,
      "outputs": [
        {
          "output_type": "stream",
          "text": [
            "Predicted price  :  [483607.22]\n",
            "Real price :  480000.0\n"
          ],
          "name": "stdout"
        }
      ]
    },
    {
      "cell_type": "code",
      "metadata": {
        "id": "ZvdNHRYaJLeK",
        "outputId": "f30c9ca7-7375-4bac-a592-4d490549fbec",
        "colab": {
          "base_uri": "https://localhost:8080/"
        }
      },
      "source": [
        "# Evaluate the model\n",
        "loss, mae, mse = model.evaluate(X_test,  y_test)\n",
        "print(\"The mean absolute error: {:5.2f}\".format(mae))\n",
        "print(\"The mean squared error: {:5.2f}\".format(mse))\n",
        "print(\"The Loss: {:5.2f}\".format(loss))"
      ],
      "execution_count": 13,
      "outputs": [
        {
          "output_type": "stream",
          "text": [
            "203/203 [==============================] - 0s 865us/step - loss: 71909720064.0000 - mae: 171674.0625 - mse: 71909720064.0000\n",
            "The mean absolute error: 171674.06\n",
            "The mean squared error: 71909720064.00\n",
            "The Loss: 71909720064.00\n"
          ],
          "name": "stdout"
        }
      ]
    },
    {
      "cell_type": "code",
      "metadata": {
        "id": "geo4TkRsGyg1",
        "outputId": "cb344b83-ebe2-4075-8451-0022f35d4d11",
        "colab": {
          "base_uri": "https://localhost:8080/"
        }
      },
      "source": [
        "# Show a random predicted home price and look what its actual price\n",
        "idx= np.random.choice(X_test.shape[0])\n",
        "print (\"Predicted price :\", predict[idx])\n",
        "print (\"Actual price :\", y_test[idx])"
      ],
      "execution_count": 14,
      "outputs": [
        {
          "output_type": "stream",
          "text": [
            "Predicted price : [584601.8]\n",
            "Actual price : 606000.0\n"
          ],
          "name": "stdout"
        }
      ]
    },
    {
      "cell_type": "code",
      "metadata": {
        "id": "9ngGwEzoB_II",
        "outputId": "88243543-2041-4c03-9f2c-0aea8f7f0353",
        "colab": {
          "base_uri": "https://localhost:8080/",
          "height": 290
        }
      },
      "source": [
        "# visualization\n",
        "plt.scatter(y_test, predict,  color='black')\n",
        "plt.scatter(y_test[idx], predict[idx])\n",
        "plt.xlabel('(Actual price')\n",
        "plt.ylabel('Predicted pric)')\n",
        "plt.plot([df['price'].min(), df['price'].max()], [df['price'].min(), df['price'].max()], color='red')\n",
        "plt.show()"
      ],
      "execution_count": 15,
      "outputs": [
        {
          "output_type": "display_data",
          "data": {
            "image/png": "[encoded data removed]",
            "text/plain": [
              "<Figure size 432x288 with 1 Axes>"
            ]
          },
          "metadata": {
            "tags": [],
            "needs_background": "light"
          }
        }
      ]
    },
    {
      "cell_type": "code",
      "metadata": {
        "id": "J_gbNOMoCCHV"
      },
      "source": [
        "# Save the model\n",
        "model.save(\"saved.h5\")"
      ],
      "execution_count": 16,
      "outputs": []
    },
    {
      "cell_type": "code",
      "metadata": {
        "id": "tZhXJxCDW9P8",
        "outputId": "e4f35f76-a6cb-4887-de02-0596fa8b9cc9",
        "colab": {
          "base_uri": "https://localhost:8080/"
        }
      },
      "source": [
        "# Install requirements\n",
        "!pip install tensorflowjs"
      ],
      "execution_count": 17,
      "outputs": [
        {
          "output_type": "stream",
          "text": [
            "Collecting tensorflowjs\n",
            "\u001b[?25l  Downloading https://files.pythonhosted.org/packages/e8/c8/c52e21c49b3baf0845e395241046a993e244dd4b94c9827a8cd2d9b18927/tensorflowjs-2.7.0-py3-none-any.whl (62kB)\n",
            "\u001b[K     |████████████████████████████████| 71kB 2.5MB/s \n",
            "\u001b[?25hRequirement already satisfied: tensorflow<3,>=2.1.0 in /usr/local/lib/python3.6/dist-packages (from tensorflowjs) (2.3.0)\n",
            "Requirement already satisfied: h5py<3,>=2.8.0 in /usr/local/lib/python3.6/dist-packages (from tensorflowjs) (2.10.0)\n",
            "Requirement already satisfied: six<2,>=1.12.0 in /usr/local/lib/python3.6/dist-packages (from tensorflowjs) (1.15.0)\n",
            "Collecting tensorflow-hub<0.10,>=0.7.0\n",
            "\u001b[?25l  Downloading https://files.pythonhosted.org/packages/ac/83/a7df82744a794107641dad1decaad017d82e25f0e1f761ac9204829eef96/tensorflow_hub-0.9.0-py2.py3-none-any.whl (103kB)\n",
            "\u001b[K     |████████████████████████████████| 112kB 9.9MB/s \n",
            "\u001b[?25hRequirement already satisfied: opt-einsum>=2.3.2 in /usr/local/lib/python3.6/dist-packages (from tensorflow<3,>=2.1.0->tensorflowjs) (3.3.0)\n",
            "Requirement already satisfied: scipy==1.4.1 in /usr/local/lib/python3.6/dist-packages (from tensorflow<3,>=2.1.0->tensorflowjs) (1.4.1)\n",
            "Requirement already satisfied: wheel>=0.26 in /usr/local/lib/python3.6/dist-packages (from tensorflow<3,>=2.1.0->tensorflowjs) (0.35.1)\n",
            "Requirement already satisfied: protobuf>=3.9.2 in /usr/local/lib/python3.6/dist-packages (from tensorflow<3,>=2.1.0->tensorflowjs) (3.12.4)\n",
            "Requirement already satisfied: wrapt>=1.11.1 in /usr/local/lib/python3.6/dist-packages (from tensorflow<3,>=2.1.0->tensorflowjs) (1.12.1)\n",
            "Requirement already satisfied: astunparse==1.6.3 in /usr/local/lib/python3.6/dist-packages (from tensorflow<3,>=2.1.0->tensorflowjs) (1.6.3)\n",
            "Requirement already satisfied: termcolor>=1.1.0 in /usr/local/lib/python3.6/dist-packages (from tensorflow<3,>=2.1.0->tensorflowjs) (1.1.0)\n",
            "Requirement already satisfied: grpcio>=1.8.6 in /usr/local/lib/python3.6/dist-packages (from tensorflow<3,>=2.1.0->tensorflowjs) (1.33.2)\n",
            "Requirement already satisfied: gast==0.3.3 in /usr/local/lib/python3.6/dist-packages (from tensorflow<3,>=2.1.0->tensorflowjs) (0.3.3)\n",
            "Requirement already satisfied: keras-preprocessing<1.2,>=1.1.1 in /usr/local/lib/python3.6/dist-packages (from tensorflow<3,>=2.1.0->tensorflowjs) (1.1.2)\n",
            "Requirement already satisfied: tensorboard<3,>=2.3.0 in /usr/local/lib/python3.6/dist-packages (from tensorflow<3,>=2.1.0->tensorflowjs) (2.3.0)\n",
            "Requirement already satisfied: numpy<1.19.0,>=1.16.0 in /usr/local/lib/python3.6/dist-packages (from tensorflow<3,>=2.1.0->tensorflowjs) (1.18.5)\n",
            "Requirement already satisfied: tensorflow-estimator<2.4.0,>=2.3.0 in /usr/local/lib/python3.6/dist-packages (from tensorflow<3,>=2.1.0->tensorflowjs) (2.3.0)\n",
            "Requirement already satisfied: google-pasta>=0.1.8 in /usr/local/lib/python3.6/dist-packages (from tensorflow<3,>=2.1.0->tensorflowjs) (0.2.0)\n",
            "Requirement already satisfied: absl-py>=0.7.0 in /usr/local/lib/python3.6/dist-packages (from tensorflow<3,>=2.1.0->tensorflowjs) (0.10.0)\n",
            "Requirement already satisfied: setuptools in /usr/local/lib/python3.6/dist-packages (from protobuf>=3.9.2->tensorflow<3,>=2.1.0->tensorflowjs) (50.3.2)\n",
            "Requirement already satisfied: requests<3,>=2.21.0 in /usr/local/lib/python3.6/dist-packages (from tensorboard<3,>=2.3.0->tensorflow<3,>=2.1.0->tensorflowjs) (2.23.0)\n",
            "Requirement already satisfied: google-auth<2,>=1.6.3 in /usr/local/lib/python3.6/dist-packages (from tensorboard<3,>=2.3.0->tensorflow<3,>=2.1.0->tensorflowjs) (1.17.2)\n",
            "Requirement already satisfied: markdown>=2.6.8 in /usr/local/lib/python3.6/dist-packages (from tensorboard<3,>=2.3.0->tensorflow<3,>=2.1.0->tensorflowjs) (3.3.3)\n",
            "Requirement already satisfied: google-auth-oauthlib<0.5,>=0.4.1 in /usr/local/lib/python3.6/dist-packages (from tensorboard<3,>=2.3.0->tensorflow<3,>=2.1.0->tensorflowjs) (0.4.2)\n",
            "Requirement already satisfied: werkzeug>=0.11.15 in /usr/local/lib/python3.6/dist-packages (from tensorboard<3,>=2.3.0->tensorflow<3,>=2.1.0->tensorflowjs) (1.0.1)\n",
            "Requirement already satisfied: tensorboard-plugin-wit>=1.6.0 in /usr/local/lib/python3.6/dist-packages (from tensorboard<3,>=2.3.0->tensorflow<3,>=2.1.0->tensorflowjs) (1.7.0)\n",
            "Requirement already satisfied: idna<3,>=2.5 in /usr/local/lib/python3.6/dist-packages (from requests<3,>=2.21.0->tensorboard<3,>=2.3.0->tensorflow<3,>=2.1.0->tensorflowjs) (2.10)\n",
            "Requirement already satisfied: urllib3!=1.25.0,!=1.25.1,<1.26,>=1.21.1 in /usr/local/lib/python3.6/dist-packages (from requests<3,>=2.21.0->tensorboard<3,>=2.3.0->tensorflow<3,>=2.1.0->tensorflowjs) (1.24.3)\n",
            "Requirement already satisfied: chardet<4,>=3.0.2 in /usr/local/lib/python3.6/dist-packages (from requests<3,>=2.21.0->tensorboard<3,>=2.3.0->tensorflow<3,>=2.1.0->tensorflowjs) (3.0.4)\n",
            "Requirement already satisfied: certifi>=2017.4.17 in /usr/local/lib/python3.6/dist-packages (from requests<3,>=2.21.0->tensorboard<3,>=2.3.0->tensorflow<3,>=2.1.0->tensorflowjs) (2020.6.20)\n",
            "Requirement already satisfied: pyasn1-modules>=0.2.1 in /usr/local/lib/python3.6/dist-packages (from google-auth<2,>=1.6.3->tensorboard<3,>=2.3.0->tensorflow<3,>=2.1.0->tensorflowjs) (0.2.8)\n",
            "Requirement already satisfied: cachetools<5.0,>=2.0.0 in /usr/local/lib/python3.6/dist-packages (from google-auth<2,>=1.6.3->tensorboard<3,>=2.3.0->tensorflow<3,>=2.1.0->tensorflowjs) (4.1.1)\n",
            "Requirement already satisfied: rsa<5,>=3.1.4; python_version >= \"3\" in /usr/local/lib/python3.6/dist-packages (from google-auth<2,>=1.6.3->tensorboard<3,>=2.3.0->tensorflow<3,>=2.1.0->tensorflowjs) (4.6)\n",
            "Requirement already satisfied: importlib-metadata; python_version < \"3.8\" in /usr/local/lib/python3.6/dist-packages (from markdown>=2.6.8->tensorboard<3,>=2.3.0->tensorflow<3,>=2.1.0->tensorflowjs) (2.0.0)\n",
            "Requirement already satisfied: requests-oauthlib>=0.7.0 in /usr/local/lib/python3.6/dist-packages (from google-auth-oauthlib<0.5,>=0.4.1->tensorboard<3,>=2.3.0->tensorflow<3,>=2.1.0->tensorflowjs) (1.3.0)\n",
            "Requirement already satisfied: pyasn1<0.5.0,>=0.4.6 in /usr/local/lib/python3.6/dist-packages (from pyasn1-modules>=0.2.1->google-auth<2,>=1.6.3->tensorboard<3,>=2.3.0->tensorflow<3,>=2.1.0->tensorflowjs) (0.4.8)\n",
            "Requirement already satisfied: zipp>=0.5 in /usr/local/lib/python3.6/dist-packages (from importlib-metadata; python_version < \"3.8\"->markdown>=2.6.8->tensorboard<3,>=2.3.0->tensorflow<3,>=2.1.0->tensorflowjs) (3.4.0)\n",
            "Requirement already satisfied: oauthlib>=3.0.0 in /usr/local/lib/python3.6/dist-packages (from requests-oauthlib>=0.7.0->google-auth-oauthlib<0.5,>=0.4.1->tensorboard<3,>=2.3.0->tensorflow<3,>=2.1.0->tensorflowjs) (3.1.0)\n",
            "Installing collected packages: tensorflow-hub, tensorflowjs\n",
            "  Found existing installation: tensorflow-hub 0.10.0\n",
            "    Uninstalling tensorflow-hub-0.10.0:\n",
            "      Successfully uninstalled tensorflow-hub-0.10.0\n",
            "Successfully installed tensorflow-hub-0.9.0 tensorflowjs-2.7.0\n"
          ],
          "name": "stdout"
        }
      ]
    },
    {
      "cell_type": "code",
      "metadata": {
        "id": "dsYz1oIJXD_Y",
        "outputId": "8913538a-dc1c-4c4c-ca9b-0f28d7953d58",
        "colab": {
          "base_uri": "https://localhost:8080/"
        }
      },
      "source": [
        "# Create a folder \n",
        "!mkdir model\n",
        "# Covert the python model \n",
        "# 1-argument format(keras) \n",
        "# 2-argument path to my_model.h5  \n",
        "# 3-argument path to tfjs_target_dir\n",
        "!tensorflowjs_converter --input_format keras saved.h5 model/"
      ],
      "execution_count": 18,
      "outputs": [
        {
          "output_type": "stream",
          "text": [
            "2020-11-06 19:32:22.848753: I tensorflow/stream_executor/platform/default/dso_loader.cc:48] Successfully opened dynamic library libcudart.so.10.1\n"
          ],
          "name": "stdout"
        }
      ]
    },
    {
      "cell_type": "code",
      "metadata": {
        "id": "E310oL38XGsr",
        "outputId": "fab4b023-f90d-4ee0-9df1-ec2fb297e2bc",
        "colab": {
          "base_uri": "https://localhost:8080/"
        }
      },
      "source": [
        "# zip the created folder \n",
        "!zip -r model.zip model"
      ],
      "execution_count": 19,
      "outputs": [
        {
          "output_type": "stream",
          "text": [
            "  adding: model/ (stored 0%)\n",
            "  adding: model/model.json (deflated 75%)\n",
            "  adding: model/group1-shard1of1.bin (deflated 8%)\n"
          ],
          "name": "stdout"
        }
      ]
    },
    {
      "cell_type": "code",
      "metadata": {
        "id": "iw9k6nNOXJ1k",
        "outputId": "1a063f0f-a350-4571-c53c-4210585a005d",
        "colab": {
          "base_uri": "https://localhost:8080/",
          "height": 17
        }
      },
      "source": [
        "# Downlod the zip folder\n",
        "from google.colab import files\n",
        "files.download('model.zip')"
      ],
      "execution_count": 20,
      "outputs": [
        {
          "output_type": "display_data",
          "data": {
            "application/javascript": [
              "\n",
              "    async function download(id, filename, size) {\n",
              "      if (!google.colab.kernel.accessAllowed) {\n",
              "        return;\n",
              "      }\n",
              "      const div = document.createElement('div');\n",
              "      const label = document.createElement('label');\n",
              "      label.textContent = `Downloading \"${filename}\": `;\n",
              "      div.appendChild(label);\n",
              "      const progress = document.createElement('progress');\n",
              "      progress.max = size;\n",
              "      div.appendChild(progress);\n",
              "      document.body.appendChild(div);\n",
              "\n",
              "      const buffers = [];\n",
              "      let downloaded = 0;\n",
              "\n",
              "      const channel = await google.colab.kernel.comms.open(id);\n",
              "      // Send a message to notify the kernel that we're ready.\n",
              "      channel.send({})\n",
              "\n",
              "      for await (const message of channel.messages) {\n",
              "        // Send a message to notify the kernel that we're ready.\n",
              "        channel.send({})\n",
              "        if (message.buffers) {\n",
              "          for (const buffer of message.buffers) {\n",
              "            buffers.push(buffer);\n",
              "            downloaded += buffer.byteLength;\n",
              "            progress.value = downloaded;\n",
              "          }\n",
              "        }\n",
              "      }\n",
              "      const blob = new Blob(buffers, {type: 'application/binary'});\n",
              "      const a = document.createElement('a');\n",
              "      a.href = window.URL.createObjectURL(blob);\n",
              "      a.download = filename;\n",
              "      div.appendChild(a);\n",
              "      a.click();\n",
              "      div.remove();\n",
              "    }\n",
              "  "
            ],
            "text/plain": [
              "<IPython.core.display.Javascript object>"
            ]
          },
          "metadata": {
            "tags": []
          }
        },
        {
          "output_type": "display_data",
          "data": {
            "application/javascript": [
              "download(\"download_2e06ebb7-8c97-4ceb-b20c-af2717b40347\", \"model.zip\", 17910)"
            ],
            "text/plain": [
              "<IPython.core.display.Javascript object>"
            ]
          },
          "metadata": {
            "tags": []
          }
        }
      ]
    }
  ]
}