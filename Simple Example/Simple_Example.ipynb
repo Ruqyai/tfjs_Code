{
  "nbformat": 4,
  "nbformat_minor": 0,
  "metadata": {
    "colab": {
      "name": "Simple_Example.ipynb",
      "provenance": [],
      "collapsed_sections": [],
      "authorship_tag": "ABX9TyP9YlAgjblQwciwtO+6AVMm",
      "include_colab_link": true
    },
    "kernelspec": {
      "name": "python3",
      "display_name": "Python 3"
    }
  },
  "cells": [
    {
      "cell_type": "markdown",
      "metadata": {
        "id": "view-in-github",
        "colab_type": "text"
      },
      "source": [
        "<a href=\"https://colab.research.google.com/github/Ruqyai/tfjs/blob/main/Simple%20Example/Simple_Example.ipynb\" target=\"_parent\"><img src=\"https://colab.research.google.com/assets/colab-badge.svg\" alt=\"Open In Colab\"/></a>"
      ]
    },
    {
      "cell_type": "markdown",
      "metadata": {
        "id": "4MqeiwAsPIbb"
      },
      "source": [
        "# Simple Example \n",
        "## For Importing a Keras model that created via the Python API into TensorFlow.js"
      ]
    },
    {
      "cell_type": "code",
      "metadata": {
        "id": "BVUbTxGApM2V"
      },
      "source": [
        "# Install requirements\n",
        "!pip install tensorflowjs"
      ],
      "execution_count": null,
      "outputs": []
    },
    {
      "cell_type": "code",
      "metadata": {
        "id": "P9rNN3N6pjPl"
      },
      "source": [
        "# import the necessary libraries\n",
        "import numpy as np\n",
        "import tensorflow as tf"
      ],
      "execution_count": null,
      "outputs": []
    },
    {
      "cell_type": "code",
      "metadata": {
        "id": "RrzyucvxrdFq"
      },
      "source": [
        "# We have the data below\n",
        "# We want to predict if x = ? then y = ?\n",
        "\n",
        "x=np.array([10.0 ,4.6, 3.6, 5.5],dtype=float)\n",
        "y=np.array([5.0 ,5.6, 7.6, 3.5],dtype=float)"
      ],
      "execution_count": null,
      "outputs": []
    },
    {
      "cell_type": "code",
      "metadata": {
        "id": "4gtH8RyBp_O4"
      },
      "source": [
        "# Build and train the model using Keras, Now keras is tightly integrated into the TensorFlow\n",
        "model = tf.keras.Sequential([tf.keras.layers.Dense(units=1,input_shape=[1])])\n",
        "model.compile(loss='mse', optimizer='sgd')\n",
        "model.fit(x,y, epochs=100)"
      ],
      "execution_count": null,
      "outputs": []
    },
    {
      "cell_type": "code",
      "metadata": {
        "id": "Ari_gVD2s2sZ"
      },
      "source": [
        "# Save the model\n",
        "model.save(\"saved.h5\")"
      ],
      "execution_count": null,
      "outputs": []
    },
    {
      "cell_type": "code",
      "metadata": {
        "id": "ZanOMaNgOGGp"
      },
      "source": [
        "# create a folder \n",
        "!mkdir model"
      ],
      "execution_count": null,
      "outputs": []
    },
    {
      "cell_type": "code",
      "metadata": {
        "id": "ibLYY2ixtOL5"
      },
      "source": [
        "# Covert the python model \n",
        "# 1-argument format(keras) \n",
        "# 2-argument path to my_model.h5  \n",
        "# 3-argument path to tfjs_target_dir\n",
        "!tensorflowjs_converter --input_format keras saved.h5 model/"
      ],
      "execution_count": null,
      "outputs": []
    },
    {
      "cell_type": "code",
      "metadata": {
        "id": "OlP-0JXL9VlP"
      },
      "source": [
        "# zip the created folder \n",
        "!zip -r model.zip model"
      ],
      "execution_count": null,
      "outputs": []
    },
    {
      "cell_type": "code",
      "metadata": {
        "id": "sZVgRf6utfWt",
        "outputId": "83a97886-0813-446a-b47a-f3d1062f687d",
        "colab": {
          "base_uri": "https://localhost:8080/",
          "height": 17
        }
      },
      "source": [
        "# downlod the zip folder\n",
        "from google.colab import files\n",
        "files.download('model.zip')"
      ],
      "execution_count": null,
      "outputs": [
        {
          "output_type": "display_data",
          "data": {
            "application/javascript": [
              "\n",
              "    async function download(id, filename, size) {\n",
              "      if (!google.colab.kernel.accessAllowed) {\n",
              "        return;\n",
              "      }\n",
              "      const div = document.createElement('div');\n",
              "      const label = document.createElement('label');\n",
              "      label.textContent = `Downloading \"${filename}\": `;\n",
              "      div.appendChild(label);\n",
              "      const progress = document.createElement('progress');\n",
              "      progress.max = size;\n",
              "      div.appendChild(progress);\n",
              "      document.body.appendChild(div);\n",
              "\n",
              "      const buffers = [];\n",
              "      let downloaded = 0;\n",
              "\n",
              "      const channel = await google.colab.kernel.comms.open(id);\n",
              "      // Send a message to notify the kernel that we're ready.\n",
              "      channel.send({})\n",
              "\n",
              "      for await (const message of channel.messages) {\n",
              "        // Send a message to notify the kernel that we're ready.\n",
              "        channel.send({})\n",
              "        if (message.buffers) {\n",
              "          for (const buffer of message.buffers) {\n",
              "            buffers.push(buffer);\n",
              "            downloaded += buffer.byteLength;\n",
              "            progress.value = downloaded;\n",
              "          }\n",
              "        }\n",
              "      }\n",
              "      const blob = new Blob(buffers, {type: 'application/binary'});\n",
              "      const a = document.createElement('a');\n",
              "      a.href = window.URL.createObjectURL(blob);\n",
              "      a.download = filename;\n",
              "      div.appendChild(a);\n",
              "      a.click();\n",
              "      div.remove();\n",
              "    }\n",
              "  "
            ],
            "text/plain": [
              "<IPython.core.display.Javascript object>"
            ]
          },
          "metadata": {
            "tags": []
          }
        },
        {
          "output_type": "display_data",
          "data": {
            "application/javascript": [
              "download(\"download_e2e84002-4c62-4057-8bff-af4cc60899e8\", \"model.zip\", 1041)"
            ],
            "text/plain": [
              "<IPython.core.display.Javascript object>"
            ]
          },
          "metadata": {
            "tags": []
          }
        }
      ]
    }
  ]
}